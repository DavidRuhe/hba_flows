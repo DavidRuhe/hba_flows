{
 "cells": [
  {
   "cell_type": "markdown",
   "id": "69d5440c",
   "metadata": {},
   "source": [
    "# Two Modes"
   ]
  },
  {
   "cell_type": "code",
   "execution_count": null,
   "id": "9c9f3b08",
   "metadata": {},
   "outputs": [],
   "source": [
    "import torch\n",
    "import seaborn as sns\n",
    "from torch import distributions\n",
    "\n",
    "from torch import nn, optim\n",
    "import math\n",
    "from tqdm import tqdm\n",
    "\n",
    "from pyro import distributions as dist\n",
    "from pyro.distributions import transforms as T\n",
    "import matplotlib.pyplot as plt"
   ]
  },
  {
   "cell_type": "code",
   "execution_count": null,
   "id": "e88376ee",
   "metadata": {},
   "outputs": [],
   "source": [
    "theta_mu1 = -0.75\n",
    "theta_mu2 = 0.75\n",
    "theta_std=0.5\n",
    "grid = torch.linspace(-5, 5, 1024)"
   ]
  },
  {
   "cell_type": "code",
   "execution_count": null,
   "id": "84f42d98",
   "metadata": {},
   "outputs": [],
   "source": [
    "logp = distributions.Normal(torch.tensor([theta_mu1, theta_mu2]), torch.tensor(theta_std)).log_prob(grid[:, None]).logsumexp(-1)"
   ]
  },
  {
   "cell_type": "code",
   "execution_count": null,
   "id": "2fdf87c6",
   "metadata": {},
   "outputs": [],
   "source": [
    "plt.plot(grid, logp.exp())"
   ]
  },
  {
   "cell_type": "code",
   "execution_count": null,
   "id": "cd7c2fd5",
   "metadata": {},
   "outputs": [],
   "source": [
    "theta = torch.cat([theta_mu1 + torch.randn(512) * theta_std, theta_mu2 + torch.randn(512) * theta_std])"
   ]
  },
  {
   "cell_type": "code",
   "execution_count": null,
   "id": "8e1efc14",
   "metadata": {},
   "outputs": [],
   "source": [
    "sns.kdeplot(theta)"
   ]
  },
  {
   "cell_type": "code",
   "execution_count": null,
   "id": "8ad4e9f4",
   "metadata": {},
   "outputs": [],
   "source": [
    "x = theta.abs() + torch.randn(1024) * 0.1"
   ]
  },
  {
   "cell_type": "code",
   "execution_count": null,
   "id": "5490810c",
   "metadata": {},
   "outputs": [],
   "source": [
    "sns.kdeplot(x)"
   ]
  },
  {
   "cell_type": "code",
   "execution_count": null,
   "id": "980d1df7",
   "metadata": {},
   "outputs": [],
   "source": [
    "def logprob_x_theta(x, theta):\n",
    "    return distributions.Uniform(-5, 5).log_prob(theta) + distributions.Normal(theta.abs(), .1).log_prob(x)"
   ]
  },
  {
   "cell_type": "code",
   "execution_count": null,
   "id": "2120960f",
   "metadata": {},
   "outputs": [],
   "source": [
    "@torch.no_grad()\n",
    "def rejection_sampling(fn, rng, num_samples=1024, batch_size=32768, max_log_prob=0, n_dims=1):\n",
    "    z = torch.Tensor()\n",
    "    i = 0\n",
    "    while len(z) < num_samples:\n",
    "        eps = torch.rand((num_samples, n_dims))\n",
    "        min, max = rng\n",
    "        z_ = eps * (max - min) + min\n",
    "        prob = torch.rand(num_samples)\n",
    "\n",
    "        logprob = fn(z_).squeeze()\n",
    "        prob_ = torch.exp(logprob - max_log_prob)\n",
    "        accept = prob_ > prob\n",
    "        z = torch.cat([z, z_[accept, :]])\n",
    "        i += 1\n",
    "    return z[:num_samples]"
   ]
  },
  {
   "cell_type": "code",
   "execution_count": null,
   "id": "895022a5",
   "metadata": {},
   "outputs": [],
   "source": [
    "x0 = x[0]"
   ]
  },
  {
   "cell_type": "code",
   "execution_count": null,
   "id": "2240322d",
   "metadata": {},
   "outputs": [],
   "source": [
    "p_theta_x0 = rejection_sampling(lambda theta: logprob_x_theta(x0, theta), (-5, 5), max_log_prob=1.2, num_samples=128)"
   ]
  },
  {
   "cell_type": "code",
   "execution_count": null,
   "id": "819d6801",
   "metadata": {},
   "outputs": [],
   "source": [
    "sns.kdeplot(p_theta_x0.squeeze())"
   ]
  },
  {
   "cell_type": "code",
   "execution_count": null,
   "id": "a8e172bd",
   "metadata": {},
   "outputs": [],
   "source": [
    "theta_samples = []\n",
    "for x0 in tqdm(x):\n",
    "#     print(x0)\n",
    "    p_theta_x0 = rejection_sampling(lambda theta: logprob_x_theta(x0, theta), (-5, 5), max_log_prob=1.2, num_samples=128)\n",
    "    theta_samples.append(p_theta_x0)"
   ]
  },
  {
   "cell_type": "code",
   "execution_count": null,
   "id": "79e06ed0",
   "metadata": {},
   "outputs": [],
   "source": [
    "base_dist = dist.Normal(torch.zeros(1), torch.ones(1))\n",
    "transform = [T.planar(1) for _ in range(4)]\n",
    "composed_transform = T.ComposeTransformModule(transform)\n",
    "\n",
    "transformed_dist = dist.TransformedDistribution(base_dist, composed_transform.inv)\n",
    "optimizer = torch.optim.Adam(composed_transform.parameters(), lr=1e-2)\n"
   ]
  },
  {
   "cell_type": "code",
   "execution_count": null,
   "id": "f2bd2a0e",
   "metadata": {
    "scrolled": true
   },
   "outputs": [],
   "source": [
    "steps = 1024\n",
    "\n",
    "for step in range(steps):\n",
    "    optimizer.zero_grad()\n",
    "    loss = -transformed_dist.log_prob(theta[:, None]).mean()\n",
    "    loss.backward()\n",
    "    optimizer.step()\n",
    "    \n",
    "    for t in transformed_dist.transforms:\n",
    "        t.clear_cache()\n",
    "        \n",
    "    if step % 32 == 0:\n",
    "        print(loss.item())\n",
    "        \n"
   ]
  },
  {
   "cell_type": "code",
   "execution_count": null,
   "id": "0c7e62d4",
   "metadata": {},
   "outputs": [],
   "source": [
    "with torch.no_grad():\n",
    "    plt.plot(grid, transformed_dist.log_prob(grid[:, None]).exp())"
   ]
  },
  {
   "cell_type": "code",
   "execution_count": null,
   "id": "f2ac394c",
   "metadata": {},
   "outputs": [],
   "source": [
    "theta_samples = torch.stack(theta_samples)"
   ]
  },
  {
   "cell_type": "code",
   "execution_count": null,
   "id": "8f0c5c17",
   "metadata": {
    "scrolled": true
   },
   "outputs": [],
   "source": [
    "theta_samples.shape"
   ]
  },
  {
   "cell_type": "code",
   "execution_count": null,
   "id": "567ad8a4",
   "metadata": {},
   "outputs": [],
   "source": [
    "base_dist = dist.Normal(torch.zeros(1), torch.ones(1))\n",
    "transform = [T.planar(1) for _ in range(4\n",
    "                                       )]\n",
    "composed_transform = T.ComposeTransformModule(transform)\n",
    "\n",
    "transformed_dist = dist.TransformedDistribution(base_dist, composed_transform.inv)\n"
   ]
  },
  {
   "cell_type": "code",
   "execution_count": null,
   "id": "b3f0a198",
   "metadata": {},
   "outputs": [],
   "source": [
    "optimizer = torch.optim.Adam(composed_transform.parameters(), lr=1e-2)\n"
   ]
  },
  {
   "cell_type": "code",
   "execution_count": null,
   "id": "3c6b1f9e",
   "metadata": {},
   "outputs": [],
   "source": [
    "sns.kdeplot(theta.squeeze())"
   ]
  },
  {
   "cell_type": "code",
   "execution_count": null,
   "id": "b3f46391",
   "metadata": {
    "scrolled": true
   },
   "outputs": [],
   "source": [
    "steps = 131072\n",
    "\n",
    "for step in range(steps):\n",
    "    optimizer.zero_grad()\n",
    "    theta_batch = theta_samples[:, torch.randint(0, 128, (1,))]\n",
    "    logprob = transformed_dist.log_prob(theta_batch.view(-1, 1)).view(theta_batch.shape)\n",
    "    \n",
    "    # Uniform prior so don't need to divide.\n",
    "    logprob = torch.logsumexp(logprob, dim=1)\n",
    "    logprob = logprob.mean()\n",
    "    loss = -logprob\n",
    "    loss.backward()\n",
    "    optimizer.step()\n",
    "    \n",
    "    for t in transformed_dist.transforms:\n",
    "        t.clear_cache()\n",
    "        \n",
    "    if step % 128 == 0:\n",
    "        print(step, loss.item())\n",
    "\n",
    "        with torch.no_grad():\n",
    "#             plt.figure(facecolor='white')\n",
    "            fig, ax1 = plt.subplots(facecolor='white')\n",
    "            ax2 = ax1.twinx()\n",
    "#             ax1.plot(x, y1, 'g-')\n",
    "#             ax2.plot(x, y2, 'b-')\n",
    "\n",
    "            ax1.plot(grid, transformed_dist.log_prob(grid[:, None]).exp(), label=r'$p(\\theta | \\mathbf{w})$')\n",
    "            ax1.plot(grid, logp.exp() / 2, label='Ground Truth', color='black')\n",
    "            sns.kdeplot(theta_samples.mean(1).squeeze(), ax=ax2, color='red', label='Average', alpha=0.5)\n",
    "            ax1.set_ylabel(r'$p(\\theta|\\mathbf{X})$', fontsize=22)\n",
    "#             plt.ylabel(r'$p(\\theta|\\mathbf{X})$', fontsize=22)\n",
    "            ax1.set_xlabel(r'$\\theta$', fontsize=22)\n",
    "\n",
    "#             ax1.yticks(fontsize=16)\n",
    "            ax1.tick_params(labelsize=16)\n",
    "            ax2.tick_params(labelsize=16)\n",
    "            plt.xticks(fontsize=16)\n",
    "            ax1.legend()\n",
    "            \n",
    "            ax2.legend(loc='lower right')\n",
    "\n",
    "            plt.tight_layout()\n",
    "            plt.savefig(f\"toy_result_{step}.pdf\")\n",
    "            plt.show()\n"
   ]
  },
  {
   "cell_type": "code",
   "execution_count": null,
   "id": "f481065b",
   "metadata": {},
   "outputs": [],
   "source": [
    "sns.kdeplot(theta_samples.mean(1).squeeze())"
   ]
  },
  {
   "cell_type": "code",
   "execution_count": null,
   "id": "203b56d2",
   "metadata": {},
   "outputs": [],
   "source": [
    "plt.figure(facecolor='white')\n",
    "\n",
    "for i in range(32):\n",
    "    alpha = 1 if i in (0, 5, 4) else 0.1\n",
    "    label =r'$\\theta \\sim p(\\theta|x_i)$)' if i ==0 else None\n",
    "    sns.kdeplot(theta_samples[i, :, 0], c='black', alpha=alpha, label=label)\n",
    "plt.legend()\n",
    "plt.ylabel(r'$p(\\theta|\\mathbf{x}_i)$', fontsize=22)\n",
    "plt.xlabel(r'$\\theta$', fontsize=22)\n",
    "plt.yticks(fontsize=16)\n",
    "plt.xticks(fontsize=16)\n",
    "\n",
    "plt.tight_layout()\n",
    "plt.savefig('p_theta_x.pdf', bbox_inches='tight')\n",
    "# plt.title(r\"Posteriors $p(\\theta|\\mathbf{x}_i)$ for $i \\in \\{1, \\dots, N\\}$\")"
   ]
  }
 ],
 "metadata": {
  "kernelspec": {
   "display_name": "Python 3 (ipykernel)",
   "language": "python",
   "name": "python3"
  },
  "language_info": {
   "codemirror_mode": {
    "name": "ipython",
    "version": 3
   },
   "file_extension": ".py",
   "mimetype": "text/x-python",
   "name": "python",
   "nbconvert_exporter": "python",
   "pygments_lexer": "ipython3",
   "version": "3.9.15"
  }
 },
 "nbformat": 4,
 "nbformat_minor": 5
}
